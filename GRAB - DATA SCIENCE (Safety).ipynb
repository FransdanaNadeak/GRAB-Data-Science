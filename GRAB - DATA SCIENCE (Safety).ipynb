{
 "cells": [
  {
   "cell_type": "markdown",
   "metadata": {},
   "source": [
    "# OVERVIEW"
   ]
  },
  {
   "cell_type": "markdown",
   "metadata": {},
   "source": [
    "There are 3 Main Process that will be apllied in this case :\n",
    "    1. Data Preparation and Preprocessing\n",
    "    2. Modelling Comparison\n",
    "    3. Hyperparameter Tuning\n",
    "    4. Metrics Evaluation for the fix Model\n"
   ]
  },
  {
   "cell_type": "markdown",
   "metadata": {},
   "source": [
    "# Data Preparation and Preprocessing"
   ]
  },
  {
   "cell_type": "markdown",
   "metadata": {},
   "source": [
    "In This Section, We have 11 data sources. There are :\n",
    "1. 10 driver datasets \n",
    "2. Label datasets\n",
    "\n",
    "Steps of our data processing are :\n",
    "1. Import all datasets\n",
    "2. Concate 10 driver datasets become single main dataset as dataframe\n",
    "3. Get Information about Dataset (Like some missing value, size of table, metadata, etc)\n",
    "4. Make Some Feature Engineering that consist Adding new features to dataset\n",
    "4. Aggregate the dataset by 'bookingID' variabel with Mean\n",
    "5. Merge 'label' dataset to the main dataset\n",
    "3. Cleaning Dataset\n",
    "    1. Avoid redundant\n",
    "    2. Missing Value Checking\n"
   ]
  },
  {
   "cell_type": "markdown",
   "metadata": {},
   "source": [
    "## Import Library"
   ]
  },
  {
   "cell_type": "code",
   "execution_count": 25,
   "metadata": {},
   "outputs": [],
   "source": [
    "import warnings\n",
    "warnings.filterwarnings(\"ignore\")\n",
    "from sklearn.model_selection import GridSearchCV\n",
    "from sklearn.metrics import fbeta_score, make_scorer\n",
    "from sklearn.metrics import accuracy_score\n",
    "from sklearn.metrics import fbeta_score\n",
    "from sklearn.cross_validation import KFold\n",
    "import numpy as np\n",
    "import pandas as pd\n",
    "import matplotlib.pyplot as plt\n",
    "import seaborn as sns\n",
    "from sklearn.metrics import classification_report\n",
    "from imblearn.pipeline import Pipeline\n",
    "from imblearn.over_sampling import SMOTE\n",
    "from imblearn.under_sampling import RandomUnderSampler\n",
    "from imblearn.combine import SMOTEENN\n",
    "from sklearn.model_selection import train_test_split\n",
    "from sklearn.model_selection import GridSearchCV,StratifiedKFold\n",
    "from sklearn.linear_model import LogisticRegression\n",
    "from xgboost import XGBClassifier\n",
    "from imblearn.metrics import geometric_mean_score\n",
    "from sklearn.metrics import make_scorer,accuracy_score,roc_auc_score,precision_score,recall_score,f1_score,log_loss\n",
    "warnings.filterwarnings(\"ignore\")"
   ]
  },
  {
   "cell_type": "markdown",
   "metadata": {},
   "source": [
    "# Data Preparation"
   ]
  },
  {
   "cell_type": "markdown",
   "metadata": {},
   "source": [
    "### Load the datasets"
   ]
  },
  {
   "cell_type": "code",
   "execution_count": 9,
   "metadata": {},
   "outputs": [],
   "source": [
    "data1 = pd.read_csv('part-00000-e6120af0-10c2-4248-97c4-81baf4304e5c-c000.csv')\n",
    "data2 = pd.read_csv('part-00001-e6120af0-10c2-4248-97c4-81baf4304e5c-c000.csv')\n",
    "data3 = pd.read_csv('part-00002-e6120af0-10c2-4248-97c4-81baf4304e5c-c000.csv')\n",
    "data4 = pd.read_csv('part-00003-e6120af0-10c2-4248-97c4-81baf4304e5c-c000.csv')\n",
    "data5 = pd.read_csv('part-00004-e6120af0-10c2-4248-97c4-81baf4304e5c-c000.csv')\n",
    "data6 = pd.read_csv('part-00005-e6120af0-10c2-4248-97c4-81baf4304e5c-c000.csv')\n",
    "data7 = pd.read_csv('part-00006-e6120af0-10c2-4248-97c4-81baf4304e5c-c000.csv')\n",
    "data8 = pd.read_csv('part-00007-e6120af0-10c2-4248-97c4-81baf4304e5c-c000.csv')\n",
    "data9 = pd.read_csv('part-00008-e6120af0-10c2-4248-97c4-81baf4304e5c-c000.csv')\n",
    "data10 = pd.read_csv('part-00009-e6120af0-10c2-4248-97c4-81baf4304e5c-c000.csv')\n",
    "label = pd.read_csv('part-00000-e9445087-aa0a-433b-a7f6-7f4c19d78ad6-c000.csv')"
   ]
  },
  {
   "cell_type": "markdown",
   "metadata": {},
   "source": [
    "### Concat all datasets become one main datasets as dataframe"
   ]
  },
  {
   "cell_type": "code",
   "execution_count": 10,
   "metadata": {},
   "outputs": [
    {
     "name": "stdout",
     "output_type": "stream",
     "text": [
      "<class 'pandas.core.frame.DataFrame'>\n",
      "Int64Index: 16135561 entries, 0 to 1613561\n",
      "Data columns (total 11 columns):\n",
      "bookingID         int64\n",
      "Accuracy          float64\n",
      "Bearing           float64\n",
      "acceleration_x    float64\n",
      "acceleration_y    float64\n",
      "acceleration_z    float64\n",
      "gyro_x            float64\n",
      "gyro_y            float64\n",
      "gyro_z            float64\n",
      "second            float64\n",
      "Speed             float64\n",
      "dtypes: float64(10), int64(1)\n",
      "memory usage: 1.4 GB\n"
     ]
    }
   ],
   "source": [
    "data=pd.concat([data1,data2,data3,data4,data5,data6,data7,data8,data9,data10],0)\n",
    "data.head()\n",
    "data.info()"
   ]
  },
  {
   "cell_type": "code",
   "execution_count": 4,
   "metadata": {},
   "outputs": [
    {
     "data": {
      "text/html": [
       "<div>\n",
       "<style scoped>\n",
       "    .dataframe tbody tr th:only-of-type {\n",
       "        vertical-align: middle;\n",
       "    }\n",
       "\n",
       "    .dataframe tbody tr th {\n",
       "        vertical-align: top;\n",
       "    }\n",
       "\n",
       "    .dataframe thead th {\n",
       "        text-align: right;\n",
       "    }\n",
       "</style>\n",
       "<table border=\"1\" class=\"dataframe\">\n",
       "  <thead>\n",
       "    <tr style=\"text-align: right;\">\n",
       "      <th></th>\n",
       "      <th>bookingID</th>\n",
       "      <th>Accuracy</th>\n",
       "      <th>Bearing</th>\n",
       "      <th>acceleration_x</th>\n",
       "      <th>acceleration_y</th>\n",
       "      <th>acceleration_z</th>\n",
       "      <th>gyro_x</th>\n",
       "      <th>gyro_y</th>\n",
       "      <th>gyro_z</th>\n",
       "      <th>second</th>\n",
       "      <th>Speed</th>\n",
       "    </tr>\n",
       "  </thead>\n",
       "  <tbody>\n",
       "    <tr>\n",
       "      <th>0</th>\n",
       "      <td>1202590843006</td>\n",
       "      <td>3.000</td>\n",
       "      <td>353.0</td>\n",
       "      <td>1.228867</td>\n",
       "      <td>8.900100</td>\n",
       "      <td>3.986968</td>\n",
       "      <td>0.008221</td>\n",
       "      <td>0.002269</td>\n",
       "      <td>-0.009966</td>\n",
       "      <td>1362.0</td>\n",
       "      <td>0.000000</td>\n",
       "    </tr>\n",
       "    <tr>\n",
       "      <th>1</th>\n",
       "      <td>274877907034</td>\n",
       "      <td>9.293</td>\n",
       "      <td>17.0</td>\n",
       "      <td>0.032775</td>\n",
       "      <td>8.659933</td>\n",
       "      <td>4.737300</td>\n",
       "      <td>0.024629</td>\n",
       "      <td>0.004028</td>\n",
       "      <td>-0.010858</td>\n",
       "      <td>257.0</td>\n",
       "      <td>0.190000</td>\n",
       "    </tr>\n",
       "    <tr>\n",
       "      <th>2</th>\n",
       "      <td>884763263056</td>\n",
       "      <td>3.000</td>\n",
       "      <td>189.0</td>\n",
       "      <td>1.139675</td>\n",
       "      <td>9.545974</td>\n",
       "      <td>1.951334</td>\n",
       "      <td>-0.006899</td>\n",
       "      <td>-0.015080</td>\n",
       "      <td>0.001122</td>\n",
       "      <td>973.0</td>\n",
       "      <td>0.667059</td>\n",
       "    </tr>\n",
       "    <tr>\n",
       "      <th>3</th>\n",
       "      <td>1073741824054</td>\n",
       "      <td>3.900</td>\n",
       "      <td>126.0</td>\n",
       "      <td>3.871543</td>\n",
       "      <td>10.386364</td>\n",
       "      <td>-0.136474</td>\n",
       "      <td>0.001344</td>\n",
       "      <td>-0.339601</td>\n",
       "      <td>-0.017956</td>\n",
       "      <td>902.0</td>\n",
       "      <td>7.913285</td>\n",
       "    </tr>\n",
       "    <tr>\n",
       "      <th>4</th>\n",
       "      <td>1056561954943</td>\n",
       "      <td>3.900</td>\n",
       "      <td>50.0</td>\n",
       "      <td>-0.112882</td>\n",
       "      <td>10.550960</td>\n",
       "      <td>-1.560110</td>\n",
       "      <td>0.130568</td>\n",
       "      <td>-0.061697</td>\n",
       "      <td>0.161530</td>\n",
       "      <td>820.0</td>\n",
       "      <td>20.419409</td>\n",
       "    </tr>\n",
       "  </tbody>\n",
       "</table>\n",
       "</div>"
      ],
      "text/plain": [
       "       bookingID  Accuracy  Bearing  acceleration_x  acceleration_y  \\\n",
       "0  1202590843006     3.000    353.0        1.228867        8.900100   \n",
       "1   274877907034     9.293     17.0        0.032775        8.659933   \n",
       "2   884763263056     3.000    189.0        1.139675        9.545974   \n",
       "3  1073741824054     3.900    126.0        3.871543       10.386364   \n",
       "4  1056561954943     3.900     50.0       -0.112882       10.550960   \n",
       "\n",
       "   acceleration_z    gyro_x    gyro_y    gyro_z  second      Speed  \n",
       "0        3.986968  0.008221  0.002269 -0.009966  1362.0   0.000000  \n",
       "1        4.737300  0.024629  0.004028 -0.010858   257.0   0.190000  \n",
       "2        1.951334 -0.006899 -0.015080  0.001122   973.0   0.667059  \n",
       "3       -0.136474  0.001344 -0.339601 -0.017956   902.0   7.913285  \n",
       "4       -1.560110  0.130568 -0.061697  0.161530   820.0  20.419409  "
      ]
     },
     "execution_count": 4,
     "metadata": {},
     "output_type": "execute_result"
    }
   ],
   "source": [
    "data.head()"
   ]
  },
  {
   "cell_type": "markdown",
   "metadata": {},
   "source": [
    "## Feature Engineering"
   ]
  },
  {
   "cell_type": "markdown",
   "metadata": {},
   "source": [
    "### Feature Distance"
   ]
  },
  {
   "cell_type": "code",
   "execution_count": 5,
   "metadata": {},
   "outputs": [],
   "source": [
    "###Distance\n",
    "data['distance']=data['Speed']*data['second']"
   ]
  },
  {
   "cell_type": "markdown",
   "metadata": {},
   "source": [
    "### Feature Speed"
   ]
  },
  {
   "cell_type": "markdown",
   "metadata": {},
   "source": [
    "To make this feature, I multiply 'acceleration' with 'second' to produce feature 'second'\n",
    "I use Euclid distance to determine the interaction from the Feature Speed. \n",
    "I use this method to add new faeture because this feature contain direction/vector like (x,y,z)"
   ]
  },
  {
   "cell_type": "code",
   "execution_count": 6,
   "metadata": {},
   "outputs": [],
   "source": [
    "###Speed\n",
    "data['speed_x']=data['acceleration_x']*data['second']\n",
    "data['speed_y']=data['acceleration_y']*data['second']\n",
    "data['speed_z']=data['acceleration_z']*data['second']\n",
    "data['speed_xy']=np.sqrt(data['speed_x']**2+data['speed_y']**2)\n",
    "data['speed_xz']=np.sqrt(data['speed_x']**2+data['speed_z']**2)\n",
    "data['speed_yz']=np.sqrt(data['speed_z']**2+data['speed_y']**2)\n",
    "data['speed_xyz']=np.sqrt(data['speed_x']**2+data['speed_y']**2+data['speed_z']**2)"
   ]
  },
  {
   "cell_type": "markdown",
   "metadata": {},
   "source": [
    "### Feature Radian"
   ]
  },
  {
   "cell_type": "markdown",
   "metadata": {},
   "source": [
    "To make this feature, I multiply 'gyro' with 'second' to produce feature 'second'\n",
    "I use Euclid distance to determine the interaction from the Feature Radian. \n",
    "I use this method to add new faeture because this feature contain direction/vector like (x,y,z)"
   ]
  },
  {
   "cell_type": "code",
   "execution_count": 7,
   "metadata": {},
   "outputs": [],
   "source": [
    "###radian\n",
    "data['rad_x']=data['gyro_x']*data['second']\n",
    "data['rad_y']=data['gyro_y']*data['second']\n",
    "data['rad_z']=data['gyro_z']*data['second']\n",
    "data['rad_xy']=np.sqrt(data['rad_x']**2+data['rad_y']**2)\n",
    "data['rad_xz']=np.sqrt(data['rad_x']**2+data['rad_z']**2)\n",
    "data['rad_yz']=np.sqrt(data['rad_z']**2+data['rad_y']**2)\n",
    "data['rad_xyz']=np.sqrt(data['rad_x']**2+data['rad_y']**2+data['rad_z']**2)"
   ]
  },
  {
   "cell_type": "markdown",
   "metadata": {},
   "source": [
    "### Feature Acceleration"
   ]
  },
  {
   "cell_type": "markdown",
   "metadata": {},
   "source": [
    "I make the interaction variable with all the combination of the feature 'Acceleration' based on the vector theorem. \n",
    "I use Euclid Method to combine the feature"
   ]
  },
  {
   "cell_type": "code",
   "execution_count": 8,
   "metadata": {},
   "outputs": [],
   "source": [
    "###Acceleration\n",
    "data['acc_xy']=np.sqrt(data['acceleration_x']**2+data['acceleration_y']**2)\n",
    "data['acc_xz']=np.sqrt(data['acceleration_x']**2+data['acceleration_z']**2)\n",
    "data['acc_yz']=np.sqrt(data['acceleration_z']**2+data['acceleration_y']**2)\n",
    "data['acc_xyz']=np.sqrt(data['acceleration_x']**2+data['acceleration_y']**2+data['acceleration_z']**2)"
   ]
  },
  {
   "cell_type": "markdown",
   "metadata": {},
   "source": [
    "### Feature Gyro"
   ]
  },
  {
   "cell_type": "markdown",
   "metadata": {},
   "source": [
    "I make the interaction variable with all the combination of the feature 'Gyro' based on the vector theorem. \n",
    "I use Euclid Method to combine the feature"
   ]
  },
  {
   "cell_type": "code",
   "execution_count": 9,
   "metadata": {},
   "outputs": [],
   "source": [
    "###Gyro\n",
    "data['gyro_xy']=np.sqrt(data['gyro_x']**2+data['gyro_y']**2)\n",
    "data['gyro_xz']=np.sqrt(data['gyro_x']**2+data['gyro_z']**2)\n",
    "data['gyro_yz']=np.sqrt(data['gyro_z']**2+data['gyro_y']**2)\n",
    "data['gyro_xyz']=np.sqrt(data['gyro_x']**2+data['gyro_y']**2+data['gyro_z']**2)"
   ]
  },
  {
   "cell_type": "code",
   "execution_count": 10,
   "metadata": {},
   "outputs": [],
   "source": [
    "###Interaction\n",
    "data['acc_gyro_x']=data['acceleration_x']*data['gyro_x']\n",
    "data['acc_gyro_y']=data['acceleration_y']*data['gyro_y']\n",
    "data['acc_gyro_z']=data['acceleration_z']*data['gyro_z']\n",
    "data['acc_gyro_xy']=np.sqrt(data['acc_gyro_x']**2+data['acc_gyro_y']**2)\n",
    "data['acc_gyro_xz']=np.sqrt(data['acc_gyro_x']**2+data['acc_gyro_z']**2)\n",
    "data['acc_gyro_yz']=np.sqrt(data['acc_gyro_z']**2+data['acc_gyro_y']**2)\n",
    "data['acc_gyro_xyz']=np.sqrt(data['acc_gyro_x']**2+data['acc_gyro_y']**2+data['acc_gyro_z']**2)"
   ]
  },
  {
   "cell_type": "markdown",
   "metadata": {},
   "source": [
    "### Feature Count"
   ]
  },
  {
   "cell_type": "markdown",
   "metadata": {},
   "source": [
    "I aggregate all the 'bookingID' Feature by count so we know how many call that got by the driver"
   ]
  },
  {
   "cell_type": "code",
   "execution_count": 11,
   "metadata": {},
   "outputs": [],
   "source": [
    "a=data['bookingID'].value_counts()\n",
    "ID=pd.DataFrame(a)\n",
    "ID['id']=ID.index\n",
    "ID['count']=ID['bookingID']\n",
    "#ID.head()\n",
    "Count_df=pd.DataFrame()\n",
    "Count_df['bookingID']=ID['id']\n",
    "Count_df['count']=ID['count']"
   ]
  },
  {
   "cell_type": "markdown",
   "metadata": {},
   "source": [
    "### Data Aggregation by Mean each BookingID and Merge the aggregation data with label"
   ]
  },
  {
   "cell_type": "code",
   "execution_count": 8,
   "metadata": {},
   "outputs": [
    {
     "name": "stdout",
     "output_type": "stream",
     "text": [
      "<class 'pandas.core.frame.DataFrame'>\n",
      "RangeIndex: 20018 entries, 0 to 20017\n",
      "Data columns (total 41 columns):\n",
      "bookingID         20018 non-null int64\n",
      "Accuracy          20018 non-null float64\n",
      "Bearing           20018 non-null float64\n",
      "Speed             20018 non-null float64\n",
      "acc_gyro_x        20018 non-null float64\n",
      "acc_gyro_xy       20018 non-null float64\n",
      "acc_gyro_xz       20018 non-null float64\n",
      "acc_gyro_y        20018 non-null float64\n",
      "acc_gyro_yz       20018 non-null float64\n",
      "acc_gyro_z        20018 non-null float64\n",
      "acc_xy            20018 non-null float64\n",
      "acc_xyz           20018 non-null float64\n",
      "acc_xz            20018 non-null float64\n",
      "acc_yz            20018 non-null float64\n",
      "acceleration_x    20018 non-null float64\n",
      "acceleration_y    20018 non-null float64\n",
      "acceleration_z    20018 non-null float64\n",
      "distance          20018 non-null float64\n",
      "gyro_x            20018 non-null float64\n",
      "gyro_xy           20018 non-null float64\n",
      "gyro_xyz          20018 non-null float64\n",
      "gyro_xz           20018 non-null float64\n",
      "gyro_y            20018 non-null float64\n",
      "gyro_yz           20018 non-null float64\n",
      "gyro_z            20018 non-null float64\n",
      "rad_x             20018 non-null float64\n",
      "rad_xy            20018 non-null float64\n",
      "rad_xyz           20018 non-null float64\n",
      "rad_xz            20018 non-null float64\n",
      "rad_y             20018 non-null float64\n",
      "rad_yz            20018 non-null float64\n",
      "rad_z             20018 non-null float64\n",
      "second            20018 non-null float64\n",
      "speed_x           20018 non-null float64\n",
      "speed_xy          20018 non-null float64\n",
      "speed_xyz         20018 non-null float64\n",
      "speed_xz          20018 non-null float64\n",
      "speed_y           20018 non-null float64\n",
      "speed_yz          20018 non-null float64\n",
      "speed_z           20018 non-null float64\n",
      "label             20018 non-null int64\n",
      "dtypes: float64(39), int64(2)\n",
      "memory usage: 6.3 MB\n",
      "None\n"
     ]
    },
    {
     "data": {
      "text/html": [
       "<div>\n",
       "<style scoped>\n",
       "    .dataframe tbody tr th:only-of-type {\n",
       "        vertical-align: middle;\n",
       "    }\n",
       "\n",
       "    .dataframe tbody tr th {\n",
       "        vertical-align: top;\n",
       "    }\n",
       "\n",
       "    .dataframe thead th {\n",
       "        text-align: right;\n",
       "    }\n",
       "</style>\n",
       "<table border=\"1\" class=\"dataframe\">\n",
       "  <thead>\n",
       "    <tr style=\"text-align: right;\">\n",
       "      <th></th>\n",
       "      <th>bookingID</th>\n",
       "      <th>Accuracy</th>\n",
       "      <th>Bearing</th>\n",
       "      <th>Speed</th>\n",
       "      <th>acc_gyro_x</th>\n",
       "      <th>acc_gyro_xy</th>\n",
       "      <th>acc_gyro_xz</th>\n",
       "      <th>acc_gyro_y</th>\n",
       "      <th>acc_gyro_yz</th>\n",
       "      <th>acc_gyro_z</th>\n",
       "      <th>...</th>\n",
       "      <th>rad_z</th>\n",
       "      <th>second</th>\n",
       "      <th>speed_x</th>\n",
       "      <th>speed_xy</th>\n",
       "      <th>speed_xyz</th>\n",
       "      <th>speed_xz</th>\n",
       "      <th>speed_y</th>\n",
       "      <th>speed_yz</th>\n",
       "      <th>speed_z</th>\n",
       "      <th>label</th>\n",
       "    </tr>\n",
       "  </thead>\n",
       "  <tbody>\n",
       "    <tr>\n",
       "      <th>0</th>\n",
       "      <td>0</td>\n",
       "      <td>10.165339</td>\n",
       "      <td>176.526099</td>\n",
       "      <td>8.994822</td>\n",
       "      <td>-0.011891</td>\n",
       "      <td>0.633826</td>\n",
       "      <td>0.105596</td>\n",
       "      <td>0.067631</td>\n",
       "      <td>0.645055</td>\n",
       "      <td>0.001921</td>\n",
       "      <td>...</td>\n",
       "      <td>-4.408486</td>\n",
       "      <td>903.526892</td>\n",
       "      <td>-649.397432</td>\n",
       "      <td>8756.046336</td>\n",
       "      <td>8948.720935</td>\n",
       "      <td>1959.080189</td>\n",
       "      <td>-8685.711305</td>\n",
       "      <td>8879.839458</td>\n",
       "      <td>-1474.337306</td>\n",
       "      <td>0</td>\n",
       "    </tr>\n",
       "    <tr>\n",
       "      <th>1</th>\n",
       "      <td>1</td>\n",
       "      <td>3.718763</td>\n",
       "      <td>124.198590</td>\n",
       "      <td>7.881588</td>\n",
       "      <td>0.002711</td>\n",
       "      <td>0.497354</td>\n",
       "      <td>0.056595</td>\n",
       "      <td>-0.070063</td>\n",
       "      <td>0.503368</td>\n",
       "      <td>-0.001414</td>\n",
       "      <td>...</td>\n",
       "      <td>0.115987</td>\n",
       "      <td>581.175088</td>\n",
       "      <td>-296.255476</td>\n",
       "      <td>5555.544029</td>\n",
       "      <td>5724.985279</td>\n",
       "      <td>1390.011395</td>\n",
       "      <td>5530.225067</td>\n",
       "      <td>5700.590845</td>\n",
       "      <td>-1290.127486</td>\n",
       "      <td>1</td>\n",
       "    </tr>\n",
       "    <tr>\n",
       "      <th>2</th>\n",
       "      <td>2</td>\n",
       "      <td>3.930626</td>\n",
       "      <td>173.794872</td>\n",
       "      <td>3.157213</td>\n",
       "      <td>-0.000493</td>\n",
       "      <td>0.718235</td>\n",
       "      <td>0.038764</td>\n",
       "      <td>-0.124528</td>\n",
       "      <td>0.716790</td>\n",
       "      <td>-0.003984</td>\n",
       "      <td>...</td>\n",
       "      <td>-0.086165</td>\n",
       "      <td>339.441026</td>\n",
       "      <td>166.995474</td>\n",
       "      <td>3332.772481</td>\n",
       "      <td>3349.991563</td>\n",
       "      <td>382.530340</td>\n",
       "      <td>3322.604563</td>\n",
       "      <td>3339.885726</td>\n",
       "      <td>105.561403</td>\n",
       "      <td>1</td>\n",
       "    </tr>\n",
       "    <tr>\n",
       "      <th>3</th>\n",
       "      <td>4</td>\n",
       "      <td>10.000000</td>\n",
       "      <td>151.807013</td>\n",
       "      <td>6.150996</td>\n",
       "      <td>0.010705</td>\n",
       "      <td>0.743528</td>\n",
       "      <td>0.125491</td>\n",
       "      <td>-0.224052</td>\n",
       "      <td>0.767880</td>\n",
       "      <td>0.000394</td>\n",
       "      <td>...</td>\n",
       "      <td>1.521071</td>\n",
       "      <td>547.495430</td>\n",
       "      <td>-186.771902</td>\n",
       "      <td>5177.597451</td>\n",
       "      <td>5381.628682</td>\n",
       "      <td>1454.127062</td>\n",
       "      <td>-5164.378666</td>\n",
       "      <td>5368.923123</td>\n",
       "      <td>-1403.165916</td>\n",
       "      <td>1</td>\n",
       "    </tr>\n",
       "    <tr>\n",
       "      <th>4</th>\n",
       "      <td>6</td>\n",
       "      <td>4.586721</td>\n",
       "      <td>197.812785</td>\n",
       "      <td>4.628921</td>\n",
       "      <td>0.002100</td>\n",
       "      <td>0.549155</td>\n",
       "      <td>0.100458</td>\n",
       "      <td>0.007564</td>\n",
       "      <td>0.560269</td>\n",
       "      <td>0.005758</td>\n",
       "      <td>...</td>\n",
       "      <td>2.399600</td>\n",
       "      <td>547.000000</td>\n",
       "      <td>293.796925</td>\n",
       "      <td>5248.063573</td>\n",
       "      <td>5431.004124</td>\n",
       "      <td>1420.980777</td>\n",
       "      <td>5215.909839</td>\n",
       "      <td>5400.103212</td>\n",
       "      <td>1286.210423</td>\n",
       "      <td>0</td>\n",
       "    </tr>\n",
       "  </tbody>\n",
       "</table>\n",
       "<p>5 rows × 41 columns</p>\n",
       "</div>"
      ],
      "text/plain": [
       "   bookingID   Accuracy     Bearing     Speed  acc_gyro_x  acc_gyro_xy  \\\n",
       "0          0  10.165339  176.526099  8.994822   -0.011891     0.633826   \n",
       "1          1   3.718763  124.198590  7.881588    0.002711     0.497354   \n",
       "2          2   3.930626  173.794872  3.157213   -0.000493     0.718235   \n",
       "3          4  10.000000  151.807013  6.150996    0.010705     0.743528   \n",
       "4          6   4.586721  197.812785  4.628921    0.002100     0.549155   \n",
       "\n",
       "   acc_gyro_xz  acc_gyro_y  acc_gyro_yz  acc_gyro_z  ...       rad_z  \\\n",
       "0     0.105596    0.067631     0.645055    0.001921  ...   -4.408486   \n",
       "1     0.056595   -0.070063     0.503368   -0.001414  ...    0.115987   \n",
       "2     0.038764   -0.124528     0.716790   -0.003984  ...   -0.086165   \n",
       "3     0.125491   -0.224052     0.767880    0.000394  ...    1.521071   \n",
       "4     0.100458    0.007564     0.560269    0.005758  ...    2.399600   \n",
       "\n",
       "       second     speed_x     speed_xy    speed_xyz     speed_xz      speed_y  \\\n",
       "0  903.526892 -649.397432  8756.046336  8948.720935  1959.080189 -8685.711305   \n",
       "1  581.175088 -296.255476  5555.544029  5724.985279  1390.011395  5530.225067   \n",
       "2  339.441026  166.995474  3332.772481  3349.991563   382.530340  3322.604563   \n",
       "3  547.495430 -186.771902  5177.597451  5381.628682  1454.127062 -5164.378666   \n",
       "4  547.000000  293.796925  5248.063573  5431.004124  1420.980777  5215.909839   \n",
       "\n",
       "      speed_yz      speed_z  label  \n",
       "0  8879.839458 -1474.337306      0  \n",
       "1  5700.590845 -1290.127486      1  \n",
       "2  3339.885726   105.561403      1  \n",
       "3  5368.923123 -1403.165916      1  \n",
       "4  5400.103212  1286.210423      0  \n",
       "\n",
       "[5 rows x 41 columns]"
      ]
     },
     "execution_count": 8,
     "metadata": {},
     "output_type": "execute_result"
    }
   ],
   "source": [
    "variabel=['bookingID', 'Accuracy', 'Bearing', 'acceleration_x', 'acceleration_y',\n",
    "       'acceleration_z', 'gyro_x', 'gyro_y', 'gyro_z', 'second', 'Speed',\n",
    "       'distance', 'speed_x', 'speed_y', 'speed_z', 'speed_xy', 'speed_xz',\n",
    "       'speed_yz', 'speed_xyz', 'rad_x', 'rad_y', 'rad_z', 'rad_xy', 'rad_xz',\n",
    "       'rad_yz', 'rad_xyz', 'acc_xy', 'acc_xz', 'acc_yz', 'acc_xyz', 'gyro_xy',\n",
    "       'gyro_xz', 'gyro_yz', 'gyro_xyz', 'acc_gyro_x', 'acc_gyro_y',\n",
    "       'acc_gyro_z', 'acc_gyro_xy', 'acc_gyro_xz', 'acc_gyro_yz']\n",
    "dataAg=data.groupby('bookingID', as_index=False)[variabel].mean()\n",
    "dataAg.info()\n",
    "df_main = pd.merge(dataAg,label,how='left',left_on = 'bookingID',right_on = 'bookingID')\n",
    "\n",
    "print(df_main.info())\n",
    "df_main.head()"
   ]
  },
  {
   "cell_type": "markdown",
   "metadata": {},
   "source": [
    "### Merge the Count Feature to the main dataset by BookingId"
   ]
  },
  {
   "cell_type": "code",
   "execution_count": 12,
   "metadata": {},
   "outputs": [
    {
     "data": {
      "text/html": [
       "<div>\n",
       "<style scoped>\n",
       "    .dataframe tbody tr th:only-of-type {\n",
       "        vertical-align: middle;\n",
       "    }\n",
       "\n",
       "    .dataframe tbody tr th {\n",
       "        vertical-align: top;\n",
       "    }\n",
       "\n",
       "    .dataframe thead th {\n",
       "        text-align: right;\n",
       "    }\n",
       "</style>\n",
       "<table border=\"1\" class=\"dataframe\">\n",
       "  <thead>\n",
       "    <tr style=\"text-align: right;\">\n",
       "      <th></th>\n",
       "      <th>bookingID</th>\n",
       "      <th>Accuracy</th>\n",
       "      <th>Bearing</th>\n",
       "      <th>Speed</th>\n",
       "      <th>acc_gyro_x</th>\n",
       "      <th>acc_gyro_xy</th>\n",
       "      <th>acc_gyro_xz</th>\n",
       "      <th>acc_gyro_y</th>\n",
       "      <th>acc_gyro_yz</th>\n",
       "      <th>acc_gyro_z</th>\n",
       "      <th>...</th>\n",
       "      <th>second</th>\n",
       "      <th>speed_x</th>\n",
       "      <th>speed_xy</th>\n",
       "      <th>speed_xyz</th>\n",
       "      <th>speed_xz</th>\n",
       "      <th>speed_y</th>\n",
       "      <th>speed_yz</th>\n",
       "      <th>speed_z</th>\n",
       "      <th>label</th>\n",
       "      <th>count</th>\n",
       "    </tr>\n",
       "  </thead>\n",
       "  <tbody>\n",
       "    <tr>\n",
       "      <th>0</th>\n",
       "      <td>0</td>\n",
       "      <td>10.165339</td>\n",
       "      <td>176.526099</td>\n",
       "      <td>8.994822</td>\n",
       "      <td>-0.011891</td>\n",
       "      <td>0.633826</td>\n",
       "      <td>0.105596</td>\n",
       "      <td>0.067631</td>\n",
       "      <td>0.645055</td>\n",
       "      <td>0.001921</td>\n",
       "      <td>...</td>\n",
       "      <td>903.526892</td>\n",
       "      <td>-649.397432</td>\n",
       "      <td>8756.046336</td>\n",
       "      <td>8948.720935</td>\n",
       "      <td>1959.080189</td>\n",
       "      <td>-8685.711305</td>\n",
       "      <td>8879.839458</td>\n",
       "      <td>-1474.337306</td>\n",
       "      <td>0</td>\n",
       "      <td>1004</td>\n",
       "    </tr>\n",
       "    <tr>\n",
       "      <th>1</th>\n",
       "      <td>1</td>\n",
       "      <td>3.718763</td>\n",
       "      <td>124.198590</td>\n",
       "      <td>7.881588</td>\n",
       "      <td>0.002711</td>\n",
       "      <td>0.497354</td>\n",
       "      <td>0.056595</td>\n",
       "      <td>-0.070063</td>\n",
       "      <td>0.503368</td>\n",
       "      <td>-0.001414</td>\n",
       "      <td>...</td>\n",
       "      <td>581.175088</td>\n",
       "      <td>-296.255476</td>\n",
       "      <td>5555.544029</td>\n",
       "      <td>5724.985279</td>\n",
       "      <td>1390.011395</td>\n",
       "      <td>5530.225067</td>\n",
       "      <td>5700.590845</td>\n",
       "      <td>-1290.127486</td>\n",
       "      <td>1</td>\n",
       "      <td>851</td>\n",
       "    </tr>\n",
       "    <tr>\n",
       "      <th>2</th>\n",
       "      <td>2</td>\n",
       "      <td>3.930626</td>\n",
       "      <td>173.794872</td>\n",
       "      <td>3.157213</td>\n",
       "      <td>-0.000493</td>\n",
       "      <td>0.718235</td>\n",
       "      <td>0.038764</td>\n",
       "      <td>-0.124528</td>\n",
       "      <td>0.716790</td>\n",
       "      <td>-0.003984</td>\n",
       "      <td>...</td>\n",
       "      <td>339.441026</td>\n",
       "      <td>166.995474</td>\n",
       "      <td>3332.772481</td>\n",
       "      <td>3349.991563</td>\n",
       "      <td>382.530340</td>\n",
       "      <td>3322.604563</td>\n",
       "      <td>3339.885726</td>\n",
       "      <td>105.561403</td>\n",
       "      <td>1</td>\n",
       "      <td>195</td>\n",
       "    </tr>\n",
       "    <tr>\n",
       "      <th>3</th>\n",
       "      <td>4</td>\n",
       "      <td>10.000000</td>\n",
       "      <td>151.807013</td>\n",
       "      <td>6.150996</td>\n",
       "      <td>0.010705</td>\n",
       "      <td>0.743528</td>\n",
       "      <td>0.125491</td>\n",
       "      <td>-0.224052</td>\n",
       "      <td>0.767880</td>\n",
       "      <td>0.000394</td>\n",
       "      <td>...</td>\n",
       "      <td>547.495430</td>\n",
       "      <td>-186.771902</td>\n",
       "      <td>5177.597451</td>\n",
       "      <td>5381.628682</td>\n",
       "      <td>1454.127062</td>\n",
       "      <td>-5164.378666</td>\n",
       "      <td>5368.923123</td>\n",
       "      <td>-1403.165916</td>\n",
       "      <td>1</td>\n",
       "      <td>1094</td>\n",
       "    </tr>\n",
       "    <tr>\n",
       "      <th>4</th>\n",
       "      <td>6</td>\n",
       "      <td>4.586721</td>\n",
       "      <td>197.812785</td>\n",
       "      <td>4.628921</td>\n",
       "      <td>0.002100</td>\n",
       "      <td>0.549155</td>\n",
       "      <td>0.100458</td>\n",
       "      <td>0.007564</td>\n",
       "      <td>0.560269</td>\n",
       "      <td>0.005758</td>\n",
       "      <td>...</td>\n",
       "      <td>547.000000</td>\n",
       "      <td>293.796925</td>\n",
       "      <td>5248.063573</td>\n",
       "      <td>5431.004124</td>\n",
       "      <td>1420.980777</td>\n",
       "      <td>5215.909839</td>\n",
       "      <td>5400.103212</td>\n",
       "      <td>1286.210423</td>\n",
       "      <td>0</td>\n",
       "      <td>1095</td>\n",
       "    </tr>\n",
       "  </tbody>\n",
       "</table>\n",
       "<p>5 rows × 42 columns</p>\n",
       "</div>"
      ],
      "text/plain": [
       "   bookingID   Accuracy     Bearing     Speed  acc_gyro_x  acc_gyro_xy  \\\n",
       "0          0  10.165339  176.526099  8.994822   -0.011891     0.633826   \n",
       "1          1   3.718763  124.198590  7.881588    0.002711     0.497354   \n",
       "2          2   3.930626  173.794872  3.157213   -0.000493     0.718235   \n",
       "3          4  10.000000  151.807013  6.150996    0.010705     0.743528   \n",
       "4          6   4.586721  197.812785  4.628921    0.002100     0.549155   \n",
       "\n",
       "   acc_gyro_xz  acc_gyro_y  acc_gyro_yz  acc_gyro_z  ...        second  \\\n",
       "0     0.105596    0.067631     0.645055    0.001921  ...    903.526892   \n",
       "1     0.056595   -0.070063     0.503368   -0.001414  ...    581.175088   \n",
       "2     0.038764   -0.124528     0.716790   -0.003984  ...    339.441026   \n",
       "3     0.125491   -0.224052     0.767880    0.000394  ...    547.495430   \n",
       "4     0.100458    0.007564     0.560269    0.005758  ...    547.000000   \n",
       "\n",
       "      speed_x     speed_xy    speed_xyz     speed_xz      speed_y  \\\n",
       "0 -649.397432  8756.046336  8948.720935  1959.080189 -8685.711305   \n",
       "1 -296.255476  5555.544029  5724.985279  1390.011395  5530.225067   \n",
       "2  166.995474  3332.772481  3349.991563   382.530340  3322.604563   \n",
       "3 -186.771902  5177.597451  5381.628682  1454.127062 -5164.378666   \n",
       "4  293.796925  5248.063573  5431.004124  1420.980777  5215.909839   \n",
       "\n",
       "      speed_yz      speed_z  label  count  \n",
       "0  8879.839458 -1474.337306      0   1004  \n",
       "1  5700.590845 -1290.127486      1    851  \n",
       "2  3339.885726   105.561403      1    195  \n",
       "3  5368.923123 -1403.165916      1   1094  \n",
       "4  5400.103212  1286.210423      0   1095  \n",
       "\n",
       "[5 rows x 42 columns]"
      ]
     },
     "execution_count": 12,
     "metadata": {},
     "output_type": "execute_result"
    }
   ],
   "source": [
    "df_main = pd.merge(df_main,Count_df,how='left',left_on = 'bookingID',right_on = 'bookingID')\n",
    "df_main.head()"
   ]
  },
  {
   "cell_type": "code",
   "execution_count": 89,
   "metadata": {},
   "outputs": [],
   "source": []
  },
  {
   "cell_type": "markdown",
   "metadata": {},
   "source": [
    "# Model Comparison"
   ]
  },
  {
   "cell_type": "markdown",
   "metadata": {},
   "source": [
    "### Preparing data for modelling"
   ]
  },
  {
   "cell_type": "code",
   "execution_count": 90,
   "metadata": {},
   "outputs": [],
   "source": [
    "X = df_main.drop(['label'],1)\n",
    "df_main = df_main.drop(['bookingID'],axis=1)\n",
    "df_main = pd.get_dummies(df_main)\n",
    "y = df_main['label']"
   ]
  },
  {
   "cell_type": "markdown",
   "metadata": {},
   "source": [
    "### Check the data balance"
   ]
  },
  {
   "cell_type": "code",
   "execution_count": 14,
   "metadata": {},
   "outputs": [
    {
     "data": {
      "text/plain": [
       "0    0.750175\n",
       "1    0.249825\n",
       "Name: label, dtype: float64"
      ]
     },
     "execution_count": 14,
     "metadata": {},
     "output_type": "execute_result"
    }
   ],
   "source": [
    "df_main['label'].value_counts()\n",
    "df_main['label'].value_counts(normalize = True)"
   ]
  },
  {
   "cell_type": "markdown",
   "metadata": {},
   "source": [
    "The data is Unbalance, so I use sampling to avoid the affect from imbalancing dataset"
   ]
  },
  {
   "cell_type": "code",
   "execution_count": 15,
   "metadata": {},
   "outputs": [],
   "source": [
    "X = X.values"
   ]
  },
  {
   "cell_type": "markdown",
   "metadata": {},
   "source": [
    "# MAKE MODELLING FUNCTION"
   ]
  },
  {
   "cell_type": "markdown",
   "metadata": {},
   "source": [
    "When we build this function we use some method :\n",
    "1. Training and testing split\n",
    "2. Stratified 10-Fold Cross Validation each method classification in training data\n",
    "3. Balancing data when we build a model, but in validation fold is similar like original data\n",
    "4. Evaluate every model"
   ]
  },
  {
   "cell_type": "code",
   "execution_count": 26,
   "metadata": {},
   "outputs": [],
   "source": [
    "import pandas as pd\n",
    "import numpy as np\n",
    "from imblearn.pipeline import Pipeline\n",
    "from imblearn.over_sampling import SMOTE\n",
    "from imblearn.under_sampling import RandomUnderSampler\n",
    "from imblearn.combine import SMOTEENN\n",
    "from sklearn.model_selection import train_test_split\n",
    "from sklearn.model_selection import GridSearchCV,StratifiedKFold\n",
    "from sklearn.linear_model import LogisticRegression\n",
    "from xgboost import XGBClassifier\n",
    "from imblearn.metrics import geometric_mean_score\n",
    "from sklearn.metrics import make_scorer,accuracy_score,roc_auc_score,precision_score,recall_score,f1_score,log_loss\n",
    "\n",
    "def geometric_mean_pres_rec(y_true,y_pred):\n",
    "    score = precision_score(y_true,y_pred)*recall_score(y_true,y_pred)\n",
    "    return(score)\n",
    "\n",
    "\n",
    "def model_classification(verbose):\n",
    "    # simple classification\n",
    "    from sklearn.linear_model import LogisticRegression\n",
    "    from sklearn.neighbors import KNeighborsClassifier\n",
    "    from sklearn.naive_bayes import BernoulliNB\n",
    "    from sklearn.tree import DecisionTreeClassifier\n",
    "    from sklearn.neural_network import MLPClassifier\n",
    "    \n",
    "    # hard classification\n",
    "    from sklearn.ensemble import RandomForestClassifier, GradientBoostingClassifier\n",
    "    \n",
    "    if verbose:\n",
    "        print(\"Set Simple Model\")\n",
    "    logreg = LogisticRegression(penalty='l2')\n",
    "    knn = KNeighborsClassifier()\n",
    "    nb = BernoulliNB()\n",
    "    dt = DecisionTreeClassifier()\n",
    "    \n",
    "    if verbose:print(\"Set Hard Model\\n\")\n",
    "    rf = RandomForestClassifier(random_state = 77)\n",
    "    gbc = GradientBoostingClassifier(random_state=77 )\n",
    "    xgb = XGBClassifier(random_state=77)\n",
    "    \n",
    "    model = [logreg,knn,nb,dt,rf,gbc,xgb]\n",
    "    method_name = ['Logistic Regression',\n",
    "                  'K-Nearest Neighbor',\n",
    "                  'Naive Bayes',\n",
    "                  'Decision Tree',\n",
    "                  'Random Forest',\n",
    "                  'Gradient Boosting Classifier',\n",
    "                  'Extreme Gradient Boosting']\n",
    "    return [model,method_name]\n",
    "    \n",
    "def pipe_imbalance(X,y,imb = RandomUnderSampler(),verbose = False):\n",
    "    \n",
    "    df_eval = pd.DataFrame(columns = ['Model',\n",
    "                                    'Accuracy',\n",
    "                                    'Precision',\n",
    "                                    'Recall',\n",
    "                                    'AUC',\n",
    "                                    'F1_score',\n",
    "                                    'Log_loss',\n",
    "                                    'Geometric_Mean',\n",
    "                                    'Geometric_Mean_Precision_Recall',\n",
    "                                    'Time'])\n",
    "\n",
    "    if verbose: print(\"Split Training and Testing\\n\")\n",
    "    X_train, X_test,y_train,y_test = train_test_split(X,\n",
    "                                                        y,\n",
    "                                                        test_size = 0.3,\n",
    "                                                        stratify = y,\n",
    "                                                        #random_state = 123\n",
    "                                                     )\n",
    "\n",
    "    if verbose: print('Import Classification Method\\n')\n",
    "    \n",
    "    list_model = model_classification(True)\n",
    "    df_eval['Model']=list_model[1]\n",
    "\n",
    "    if verbose: print('Building Pipeline\\n')\n",
    "    pipe = Pipeline([('imb',imb),('classifier',LogisticRegression())])\n",
    "\n",
    "    if verbose: print('Defining Params and Scoring\\n')\n",
    "    params = {'classifier': list_model[0]}\n",
    "    scorers = {'accuracy':make_scorer(accuracy_score),\n",
    "               'precision':make_scorer(precision_score),\n",
    "               'recall':make_scorer(recall_score),\n",
    "               'roc_auc':make_scorer(roc_auc_score),\n",
    "               'f1':make_scorer(f1_score),\n",
    "               'neg_log_loss':'neg_log_loss',\n",
    "               'gm':make_scorer(geometric_mean_score),\n",
    "               'gmpr':make_scorer(geometric_mean_pres_rec)}\n",
    "    \n",
    "    skf = StratifiedKFold(n_splits=10,random_state = 7)\n",
    "    \n",
    "    grid = GridSearchCV(estimator = pipe,\n",
    "                    param_grid = params,\n",
    "                    scoring = scorers,\n",
    "                    refit = 'accuracy',\n",
    "                    cv = skf)\n",
    "    grid.fit(X_train,y_train)\n",
    "    \n",
    "    df_eval['Accuracy']  = grid.cv_results_['mean_test_accuracy']\n",
    "    df_eval['Precision'] = grid.cv_results_['mean_test_precision']\n",
    "    df_eval['Recall'] = grid.cv_results_['mean_test_recall']\n",
    "    df_eval['AUC'] = grid.cv_results_['mean_test_roc_auc']\n",
    "    df_eval['F1_score'] = grid.cv_results_['mean_test_f1']\n",
    "    df_eval['Log_loss'] = grid.cv_results_['mean_test_neg_log_loss']\n",
    "    df_eval['Geometric_Mean'] = grid.cv_results_['mean_test_gm']\n",
    "    df_eval['Geometric_Mean_Precision_Recall'] = grid.cv_results_['mean_test_gmpr']\n",
    "    df_eval['Time'] = grid.cv_results_['mean_fit_time']\n",
    "    \n",
    "    return [grid,df_eval,X_test,y_test]\n"
   ]
  },
  {
   "cell_type": "code",
   "execution_count": 27,
   "metadata": {},
   "outputs": [
    {
     "name": "stdout",
     "output_type": "stream",
     "text": [
      "Split Training and Testing\n",
      "\n",
      "Import Classification Method\n",
      "\n",
      "Set Simple Model\n",
      "Set Hard Model\n",
      "\n",
      "Building Pipeline\n",
      "\n",
      "Defining Params and Scoring\n",
      "\n"
     ]
    }
   ],
   "source": [
    "df_under = pipe_imbalance(X,y, verbose=True)"
   ]
  },
  {
   "cell_type": "code",
   "execution_count": 28,
   "metadata": {},
   "outputs": [
    {
     "data": {
      "text/html": [
       "<div>\n",
       "<style scoped>\n",
       "    .dataframe tbody tr th:only-of-type {\n",
       "        vertical-align: middle;\n",
       "    }\n",
       "\n",
       "    .dataframe tbody tr th {\n",
       "        vertical-align: top;\n",
       "    }\n",
       "\n",
       "    .dataframe thead th {\n",
       "        text-align: right;\n",
       "    }\n",
       "</style>\n",
       "<table border=\"1\" class=\"dataframe\">\n",
       "  <thead>\n",
       "    <tr style=\"text-align: right;\">\n",
       "      <th></th>\n",
       "      <th>Model</th>\n",
       "      <th>Accuracy</th>\n",
       "      <th>Precision</th>\n",
       "      <th>Recall</th>\n",
       "      <th>AUC</th>\n",
       "      <th>F1_score</th>\n",
       "      <th>Log_loss</th>\n",
       "      <th>Geometric_Mean</th>\n",
       "      <th>Geometric_Mean_Precision_Recall</th>\n",
       "      <th>Time</th>\n",
       "    </tr>\n",
       "  </thead>\n",
       "  <tbody>\n",
       "    <tr>\n",
       "      <th>0</th>\n",
       "      <td>Logistic Regression</td>\n",
       "      <td>0.249857</td>\n",
       "      <td>0.249857</td>\n",
       "      <td>1.000000</td>\n",
       "      <td>0.500000</td>\n",
       "      <td>0.399817</td>\n",
       "      <td>-0.704297</td>\n",
       "      <td>0.000000</td>\n",
       "      <td>0.249857</td>\n",
       "      <td>0.052364</td>\n",
       "    </tr>\n",
       "    <tr>\n",
       "      <th>1</th>\n",
       "      <td>K-Nearest Neighbor</td>\n",
       "      <td>0.657222</td>\n",
       "      <td>0.378991</td>\n",
       "      <td>0.581266</td>\n",
       "      <td>0.631894</td>\n",
       "      <td>0.458650</td>\n",
       "      <td>-1.380657</td>\n",
       "      <td>0.629588</td>\n",
       "      <td>0.220615</td>\n",
       "      <td>0.056443</td>\n",
       "    </tr>\n",
       "    <tr>\n",
       "      <th>2</th>\n",
       "      <td>Naive Bayes</td>\n",
       "      <td>0.508778</td>\n",
       "      <td>0.250026</td>\n",
       "      <td>0.483292</td>\n",
       "      <td>0.500280</td>\n",
       "      <td>0.328889</td>\n",
       "      <td>-0.693990</td>\n",
       "      <td>0.497627</td>\n",
       "      <td>0.120999</td>\n",
       "      <td>0.039743</td>\n",
       "    </tr>\n",
       "    <tr>\n",
       "      <th>3</th>\n",
       "      <td>Decision Tree</td>\n",
       "      <td>0.577434</td>\n",
       "      <td>0.311947</td>\n",
       "      <td>0.572696</td>\n",
       "      <td>0.575854</td>\n",
       "      <td>0.403813</td>\n",
       "      <td>-14.583095</td>\n",
       "      <td>0.575673</td>\n",
       "      <td>0.178854</td>\n",
       "      <td>0.695351</td>\n",
       "    </tr>\n",
       "    <tr>\n",
       "      <th>4</th>\n",
       "      <td>Random Forest</td>\n",
       "      <td>0.658293</td>\n",
       "      <td>0.368612</td>\n",
       "      <td>0.514996</td>\n",
       "      <td>0.610509</td>\n",
       "      <td>0.429550</td>\n",
       "      <td>-0.905622</td>\n",
       "      <td>0.602811</td>\n",
       "      <td>0.189963</td>\n",
       "      <td>0.681327</td>\n",
       "    </tr>\n",
       "    <tr>\n",
       "      <th>5</th>\n",
       "      <td>Gradient Boosting Classifier</td>\n",
       "      <td>0.681130</td>\n",
       "      <td>0.409483</td>\n",
       "      <td>0.623530</td>\n",
       "      <td>0.661922</td>\n",
       "      <td>0.494216</td>\n",
       "      <td>-0.594993</td>\n",
       "      <td>0.660627</td>\n",
       "      <td>0.255722</td>\n",
       "      <td>4.285809</td>\n",
       "    </tr>\n",
       "    <tr>\n",
       "      <th>6</th>\n",
       "      <td>Extreme Gradient Boosting</td>\n",
       "      <td>0.681416</td>\n",
       "      <td>0.408644</td>\n",
       "      <td>0.616966</td>\n",
       "      <td>0.659925</td>\n",
       "      <td>0.491471</td>\n",
       "      <td>-0.595445</td>\n",
       "      <td>0.658139</td>\n",
       "      <td>0.252570</td>\n",
       "      <td>3.409516</td>\n",
       "    </tr>\n",
       "  </tbody>\n",
       "</table>\n",
       "</div>"
      ],
      "text/plain": [
       "                          Model  Accuracy  Precision    Recall       AUC  \\\n",
       "0           Logistic Regression  0.249857   0.249857  1.000000  0.500000   \n",
       "1            K-Nearest Neighbor  0.657222   0.378991  0.581266  0.631894   \n",
       "2                   Naive Bayes  0.508778   0.250026  0.483292  0.500280   \n",
       "3                 Decision Tree  0.577434   0.311947  0.572696  0.575854   \n",
       "4                 Random Forest  0.658293   0.368612  0.514996  0.610509   \n",
       "5  Gradient Boosting Classifier  0.681130   0.409483  0.623530  0.661922   \n",
       "6     Extreme Gradient Boosting  0.681416   0.408644  0.616966  0.659925   \n",
       "\n",
       "   F1_score   Log_loss  Geometric_Mean  Geometric_Mean_Precision_Recall  \\\n",
       "0  0.399817  -0.704297        0.000000                         0.249857   \n",
       "1  0.458650  -1.380657        0.629588                         0.220615   \n",
       "2  0.328889  -0.693990        0.497627                         0.120999   \n",
       "3  0.403813 -14.583095        0.575673                         0.178854   \n",
       "4  0.429550  -0.905622        0.602811                         0.189963   \n",
       "5  0.494216  -0.594993        0.660627                         0.255722   \n",
       "6  0.491471  -0.595445        0.658139                         0.252570   \n",
       "\n",
       "       Time  \n",
       "0  0.052364  \n",
       "1  0.056443  \n",
       "2  0.039743  \n",
       "3  0.695351  \n",
       "4  0.681327  \n",
       "5  4.285809  \n",
       "6  3.409516  "
      ]
     },
     "execution_count": 28,
     "metadata": {},
     "output_type": "execute_result"
    }
   ],
   "source": [
    "df_under[1]"
   ]
  },
  {
   "cell_type": "code",
   "execution_count": 30,
   "metadata": {},
   "outputs": [
    {
     "name": "stdout",
     "output_type": "stream",
     "text": [
      "Split Training and Testing\n",
      "\n",
      "Import Classification Method\n",
      "\n",
      "Set Simple Model\n",
      "Set Hard Model\n",
      "\n",
      "Building Pipeline\n",
      "\n",
      "Defining Params and Scoring\n",
      "\n"
     ]
    }
   ],
   "source": [
    "df_smote = pipe_imbalance(X,y,imb=SMOTE(k_neighbors=11), verbose=True)"
   ]
  },
  {
   "cell_type": "code",
   "execution_count": 31,
   "metadata": {},
   "outputs": [
    {
     "data": {
      "text/html": [
       "<div>\n",
       "<style scoped>\n",
       "    .dataframe tbody tr th:only-of-type {\n",
       "        vertical-align: middle;\n",
       "    }\n",
       "\n",
       "    .dataframe tbody tr th {\n",
       "        vertical-align: top;\n",
       "    }\n",
       "\n",
       "    .dataframe thead th {\n",
       "        text-align: right;\n",
       "    }\n",
       "</style>\n",
       "<table border=\"1\" class=\"dataframe\">\n",
       "  <thead>\n",
       "    <tr style=\"text-align: right;\">\n",
       "      <th></th>\n",
       "      <th>Model</th>\n",
       "      <th>Accuracy</th>\n",
       "      <th>Precision</th>\n",
       "      <th>Recall</th>\n",
       "      <th>AUC</th>\n",
       "      <th>F1_score</th>\n",
       "      <th>Log_loss</th>\n",
       "      <th>Geometric_Mean</th>\n",
       "      <th>Geometric_Mean_Precision_Recall</th>\n",
       "      <th>Time</th>\n",
       "    </tr>\n",
       "  </thead>\n",
       "  <tbody>\n",
       "    <tr>\n",
       "      <th>0</th>\n",
       "      <td>Logistic Regression</td>\n",
       "      <td>0.249929</td>\n",
       "      <td>0.249875</td>\n",
       "      <td>1.000000</td>\n",
       "      <td>0.500048</td>\n",
       "      <td>0.399840</td>\n",
       "      <td>-0.701553</td>\n",
       "      <td>0.003084</td>\n",
       "      <td>0.249875</td>\n",
       "      <td>0.292849</td>\n",
       "    </tr>\n",
       "    <tr>\n",
       "      <th>1</th>\n",
       "      <td>K-Nearest Neighbor</td>\n",
       "      <td>0.666572</td>\n",
       "      <td>0.383834</td>\n",
       "      <td>0.552983</td>\n",
       "      <td>0.628694</td>\n",
       "      <td>0.453103</td>\n",
       "      <td>-2.614959</td>\n",
       "      <td>0.623956</td>\n",
       "      <td>0.212717</td>\n",
       "      <td>0.332922</td>\n",
       "    </tr>\n",
       "    <tr>\n",
       "      <th>2</th>\n",
       "      <td>Naive Bayes</td>\n",
       "      <td>0.471881</td>\n",
       "      <td>0.256752</td>\n",
       "      <td>0.587834</td>\n",
       "      <td>0.510547</td>\n",
       "      <td>0.357390</td>\n",
       "      <td>-0.701743</td>\n",
       "      <td>0.504568</td>\n",
       "      <td>0.151247</td>\n",
       "      <td>0.239994</td>\n",
       "    </tr>\n",
       "    <tr>\n",
       "      <th>3</th>\n",
       "      <td>Decision Tree</td>\n",
       "      <td>0.627462</td>\n",
       "      <td>0.332676</td>\n",
       "      <td>0.487860</td>\n",
       "      <td>0.580911</td>\n",
       "      <td>0.395425</td>\n",
       "      <td>-12.860100</td>\n",
       "      <td>0.573102</td>\n",
       "      <td>0.162509</td>\n",
       "      <td>2.704131</td>\n",
       "    </tr>\n",
       "    <tr>\n",
       "      <th>4</th>\n",
       "      <td>Random Forest</td>\n",
       "      <td>0.693263</td>\n",
       "      <td>0.390044</td>\n",
       "      <td>0.404458</td>\n",
       "      <td>0.596958</td>\n",
       "      <td>0.396977</td>\n",
       "      <td>-0.854559</td>\n",
       "      <td>0.564773</td>\n",
       "      <td>0.158072</td>\n",
       "      <td>2.528122</td>\n",
       "    </tr>\n",
       "    <tr>\n",
       "      <th>5</th>\n",
       "      <td>Gradient Boosting Classifier</td>\n",
       "      <td>0.687839</td>\n",
       "      <td>0.407387</td>\n",
       "      <td>0.549270</td>\n",
       "      <td>0.641632</td>\n",
       "      <td>0.467675</td>\n",
       "      <td>-0.575311</td>\n",
       "      <td>0.634698</td>\n",
       "      <td>0.224001</td>\n",
       "      <td>15.163376</td>\n",
       "    </tr>\n",
       "    <tr>\n",
       "      <th>6</th>\n",
       "      <td>Extreme Gradient Boosting</td>\n",
       "      <td>0.680845</td>\n",
       "      <td>0.398427</td>\n",
       "      <td>0.544131</td>\n",
       "      <td>0.635257</td>\n",
       "      <td>0.459914</td>\n",
       "      <td>-0.575800</td>\n",
       "      <td>0.628504</td>\n",
       "      <td>0.216983</td>\n",
       "      <td>10.226565</td>\n",
       "    </tr>\n",
       "  </tbody>\n",
       "</table>\n",
       "</div>"
      ],
      "text/plain": [
       "                          Model  Accuracy  Precision    Recall       AUC  \\\n",
       "0           Logistic Regression  0.249929   0.249875  1.000000  0.500048   \n",
       "1            K-Nearest Neighbor  0.666572   0.383834  0.552983  0.628694   \n",
       "2                   Naive Bayes  0.471881   0.256752  0.587834  0.510547   \n",
       "3                 Decision Tree  0.627462   0.332676  0.487860  0.580911   \n",
       "4                 Random Forest  0.693263   0.390044  0.404458  0.596958   \n",
       "5  Gradient Boosting Classifier  0.687839   0.407387  0.549270  0.641632   \n",
       "6     Extreme Gradient Boosting  0.680845   0.398427  0.544131  0.635257   \n",
       "\n",
       "   F1_score   Log_loss  Geometric_Mean  Geometric_Mean_Precision_Recall  \\\n",
       "0  0.399840  -0.701553        0.003084                         0.249875   \n",
       "1  0.453103  -2.614959        0.623956                         0.212717   \n",
       "2  0.357390  -0.701743        0.504568                         0.151247   \n",
       "3  0.395425 -12.860100        0.573102                         0.162509   \n",
       "4  0.396977  -0.854559        0.564773                         0.158072   \n",
       "5  0.467675  -0.575311        0.634698                         0.224001   \n",
       "6  0.459914  -0.575800        0.628504                         0.216983   \n",
       "\n",
       "        Time  \n",
       "0   0.292849  \n",
       "1   0.332922  \n",
       "2   0.239994  \n",
       "3   2.704131  \n",
       "4   2.528122  \n",
       "5  15.163376  \n",
       "6  10.226565  "
      ]
     },
     "execution_count": 31,
     "metadata": {},
     "output_type": "execute_result"
    }
   ],
   "source": [
    "df_smote[1]"
   ]
  },
  {
   "cell_type": "markdown",
   "metadata": {},
   "source": [
    "From the model comparison dataframe, we can see that Gradient boosting Classifier with Random Under Sampling is the best Model because It has good evaluation metrics and the highest AUC Score. After get model, We tune the parameter of Gradient boosting Classifier"
   ]
  },
  {
   "cell_type": "markdown",
   "metadata": {},
   "source": [
    "# Tunning Hyperparameter"
   ]
  },
  {
   "cell_type": "markdown",
   "metadata": {},
   "source": [
    "In this section, we will optimize our model by tuning our hyperparameter. The model that will be tuned is Gradient Boosting Classifier. We use this model beacuse it has good evaluation metrics among the other model. The parameter that will be tuned are:\n",
    "1. Number of Tree (n_estimators)\n",
    "2. Maximum of Tree (max_depth)\n",
    "3. Minimum Sample in Leaf (min_samples_leaf)\n",
    "4. Minimum Sample in each split (min_samples_split)\n",
    "5. Number of Data for Bootstrap (subsample)\n",
    "6. Learning Rate (learning_rate)"
   ]
  },
  {
   "cell_type": "code",
   "execution_count": 32,
   "metadata": {},
   "outputs": [],
   "source": [
    "from imblearn.pipeline import Pipeline\n",
    "from sklearn.model_selection import StratifiedKFold,GridSearchCV\n",
    "from sklearn.feature_selection import SelectFromModel\n",
    "from imblearn.over_sampling import RandomOverSampler, SMOTE, ADASYN\n",
    "from imblearn.under_sampling import RandomUnderSampler\n",
    "from collections import Counter "
   ]
  },
  {
   "cell_type": "markdown",
   "metadata": {},
   "source": [
    "# EVAL METRICS"
   ]
  },
  {
   "cell_type": "code",
   "execution_count": 33,
   "metadata": {},
   "outputs": [],
   "source": [
    "# Library for Evaluation Metrics\n",
    "from sklearn.metrics import classification_report, confusion_matrix\n",
    "from imblearn.metrics import geometric_mean_score\n",
    "from sklearn.metrics import make_scorer,precision_score\n",
    "from sklearn.metrics import recall_score,accuracy_score,f1_score\n",
    "\n",
    "# library for calculate the cross validation score\n",
    "from sklearn.model_selection import cross_val_score\n",
    "\n",
    "# library for Stratified Cross Validation\n",
    "from sklearn.model_selection import StratifiedKFold"
   ]
  },
  {
   "cell_type": "code",
   "execution_count": 34,
   "metadata": {},
   "outputs": [],
   "source": [
    "def geometri_score(y_true,y_pred):\n",
    "    from sklearn.metrics import confusion_matrix\n",
    "    spe = confusion_matrix(y_true,y_pred)[0,0]/(confusion_matrix(y_true,y_pred)[0,0]+confusion_matrix(y_true,y_pred)[0,1])\n",
    "    sen = recall_score(y_true,y_pred)\n",
    "    acc = accuracy_score(y_true,y_pred)\n",
    "    eval_baru = (spe*sen*acc)**(1/3)\n",
    "    return eval_baru\n",
    "\n",
    "geometri = make_scorer(geometri_score)"
   ]
  },
  {
   "cell_type": "code",
   "execution_count": 35,
   "metadata": {},
   "outputs": [
    {
     "name": "stdout",
     "output_type": "stream",
     "text": [
      "{'precision_score': make_scorer(precision_score), 'recall_score': make_scorer(recall_score), 'accuracy_score': make_scorer(accuracy_score), 'auc': make_scorer(auc), 'geometric_mean_score': make_scorer(geometri_score)}\n"
     ]
    }
   ],
   "source": [
    "from sklearn.metrics import make_scorer,precision_score,recall_score,accuracy_score,auc\n",
    "scorers = {\n",
    "    'precision_score':make_scorer(precision_score),\n",
    "    'recall_score':make_scorer(recall_score),\n",
    "    'accuracy_score':make_scorer(accuracy_score),\n",
    "    'auc':make_scorer(auc),\n",
    "    'geometric_mean_score': make_scorer(geometri_score)\n",
    "}\n",
    "print(scorers)"
   ]
  },
  {
   "cell_type": "code",
   "execution_count": 36,
   "metadata": {},
   "outputs": [],
   "source": [
    "# Develop Evaluation Function\n",
    "\n",
    "skf = StratifiedKFold(n_splits=5,random_state=10)\n",
    "\n",
    "def eval_cv(alg,X,y):\n",
    "    print(\"akurasi cv : \\n\",\n",
    "          cross_val_score(alg,X,y,scoring=\"accuracy\",cv=skf),\"\\n\",\n",
    "          cross_val_score(alg,X,y,scoring=\"accuracy\",cv=skf).mean(),\"\\n\")\n",
    "    print(\"recall cv : \\n\",\n",
    "          cross_val_score(alg,X,y,scoring=\"recall\",cv=skf),\"\\n\",\n",
    "          cross_val_score(alg,X,y,scoring=\"recall\",cv=skf).mean(),\"\\n\")\n",
    "    print(\"presisi cv : \\n\",\n",
    "          cross_val_score(alg,X,y,scoring=\"precision\",cv=skf),\"\\n\",\n",
    "          cross_val_score(alg,X,y,scoring=\"precision\",cv=skf).mean(),\"\\n\")\n",
    "    print(\"f1 cv : \\n\",\n",
    "          cross_val_score(alg,X,y,scoring=\"f1\",cv=skf),\"\\n\",\n",
    "          cross_val_score(alg,X,y,scoring=\"f1\",cv=skf).mean(),\"\\n\")\n",
    "\n",
    "    \n",
    "def eval(alg,X,y):\n",
    "    alg.fit(X_train,y_train)\n",
    "    print(\"akurasi:\\n\",\n",
    "          accuracy_score(y,alg.predict(X)),\"\\n\")\n",
    "    print(\"confusion matirx test:\\n\",\n",
    "          confusion_matrix(y,alg.predict(X)),\"\\n\")\n",
    "    print(\"classification Report test:\\n\",\n",
    "          classification_report(y,alg.predict(X)),\"\\n\")"
   ]
  },
  {
   "cell_type": "markdown",
   "metadata": {},
   "source": [
    "### Train-test Split and Modelling (Default)"
   ]
  },
  {
   "cell_type": "code",
   "execution_count": 83,
   "metadata": {},
   "outputs": [
    {
     "name": "stdout",
     "output_type": "stream",
     "text": [
      "Wall time: 4.42 s\n"
     ]
    }
   ],
   "source": [
    "%%time\n",
    "from sklearn.ensemble import GradientBoostingClassifier\n",
    "from numpy import loadtxt\n",
    "from numpy import sort\n",
    "from sklearn.metrics import accuracy_score\n",
    "from xgboost import XGBClassifier\n",
    "from sklearn.model_selection import train_test_split\n",
    "from imblearn.under_sampling import RandomUnderSampler\n",
    "X_train,X_test,y_train,y_test = train_test_split(X,y,test_size = 0.3, stratify=y)\n",
    "rus = RandomUnderSampler()\n",
    "X_sampled,y_sampled = rus.fit_sample(X_train,y_train)\n",
    "gbc = GradientBoostingClassifier()\n",
    "model=gbc.fit(X_sampled,y_sampled)"
   ]
  },
  {
   "cell_type": "code",
   "execution_count": 84,
   "metadata": {},
   "outputs": [
    {
     "data": {
      "text/plain": [
       "<bound method BaseEstimator.get_params of GradientBoostingClassifier(criterion='friedman_mse', init=None,\n",
       "              learning_rate=0.1, loss='deviance', max_depth=3,\n",
       "              max_features=None, max_leaf_nodes=None,\n",
       "              min_impurity_decrease=0.0, min_impurity_split=None,\n",
       "              min_samples_leaf=1, min_samples_split=2,\n",
       "              min_weight_fraction_leaf=0.0, n_estimators=100,\n",
       "              presort='auto', random_state=None, subsample=1.0, verbose=0,\n",
       "              warm_start=False)>"
      ]
     },
     "execution_count": 84,
     "metadata": {},
     "output_type": "execute_result"
    }
   ],
   "source": [
    "gbc.get_params"
   ]
  },
  {
   "cell_type": "code",
   "execution_count": 39,
   "metadata": {},
   "outputs": [],
   "source": [
    "gbc_tune = GradientBoostingClassifier(criterion='friedman_mse',\n",
    "                    learning_rate=0.1,\n",
    "                    max_depth=3,\n",
    "                    max_features=None,\n",
    "                    min_samples_split=2,\n",
    "                    min_samples_leaf=1,\n",
    "                    n_estimators=100,\n",
    "                    subsample=1.0,                  \n",
    "                    random_state=123)\n",
    "\n",
    "pipe_gbc_tune = Pipeline([('imb',RandomUnderSampler(random_state=123)),('clf',gbc_tune)])"
   ]
  },
  {
   "cell_type": "code",
   "execution_count": 40,
   "metadata": {},
   "outputs": [
    {
     "name": "stdout",
     "output_type": "stream",
     "text": [
      "akurasi cv : \n",
      " [0.69828816 0.67880086 0.6745182  0.68772305 0.66381156] \n",
      " 0.6806283671435015 \n",
      "\n",
      "recall cv : \n",
      " [0.64051355 0.58       0.59142857 0.59857143 0.58428571] \n",
      " 0.5989598532708376 \n",
      "\n",
      "presisi cv : \n",
      " [0.43048897 0.40118577 0.39807692 0.4136229  0.38584906] \n",
      " 0.4058447253630607 \n",
      "\n",
      "f1 cv : \n",
      " [0.51490826 0.47429907 0.47586207 0.48920023 0.46477273] \n",
      " 0.48380847040960084 \n",
      "\n"
     ]
    }
   ],
   "source": [
    "eval_cv(pipe_gbc_tune,X_train,y_train)"
   ]
  },
  {
   "cell_type": "code",
   "execution_count": 41,
   "metadata": {},
   "outputs": [
    {
     "name": "stdout",
     "output_type": "stream",
     "text": [
      "akurasi cv : \n",
      " [0.69828816 0.67880086 0.6745182  0.68772305 0.66381156] \n",
      " 0.6806283671435015 \n",
      "\n",
      "recall cv : \n",
      " [0.64051355 0.58       0.59142857 0.59857143 0.58428571] \n",
      " 0.5989598532708376 \n",
      "\n",
      "presisi cv : \n",
      " [0.43048897 0.40118577 0.39807692 0.4136229  0.38584906] \n",
      " 0.4058447253630607 \n",
      "\n",
      "f1 cv : \n",
      " [0.51490826 0.47429907 0.47586207 0.48920023 0.46477273] \n",
      " 0.48380847040960084 \n",
      "\n"
     ]
    }
   ],
   "source": [
    "eval_cv(pipe_gbc_tune,X_train,y_train)"
   ]
  },
  {
   "cell_type": "markdown",
   "metadata": {},
   "source": [
    "# Tuning 1 (n_estimators)"
   ]
  },
  {
   "cell_type": "code",
   "execution_count": 42,
   "metadata": {},
   "outputs": [
    {
     "data": {
      "text/plain": [
       "GridSearchCV(cv=StratifiedKFold(n_splits=5, random_state=123, shuffle=False),\n",
       "       error_score='raise',\n",
       "       estimator=Pipeline(memory=None,\n",
       "     steps=[('rus', RandomUnderSampler(random_state=123, ratio='auto', replacement=False,\n",
       "          return_indices=False)), ('select', SelectFromModel(estimator=GradientBoostingClassifier(criterion='friedman_mse', init=None,\n",
       "              learning_rate=0.1, loss='deviance', max_depth=3,\n",
       "              max...       presort='auto', random_state=123, subsample=1.0, verbose=0,\n",
       "              warm_start=False))]),\n",
       "       fit_params=None, iid=True, n_jobs=1,\n",
       "       param_grid={'clf__n_estimators': [45, 70, 90, 100, 110, 120, 140]},\n",
       "       pre_dispatch='2*n_jobs', refit='geometric',\n",
       "       return_train_score='warn', scoring=None, verbose=0)"
      ]
     },
     "execution_count": 42,
     "metadata": {},
     "output_type": "execute_result"
    }
   ],
   "source": [
    "rus = RandomUnderSampler(random_state=123)\n",
    "\n",
    "# model yang disiapkan\n",
    "gbc_tune = GradientBoostingClassifier(criterion='friedman_mse',\n",
    "                    learning_rate=0.1,\n",
    "                    max_depth=3,\n",
    "                    max_features=None,\n",
    "                    min_samples_split=2,\n",
    "                    min_samples_leaf=1,\n",
    "#                    n_estimators=100,\n",
    "                    subsample=1.0,                  \n",
    "                    random_state=123)\n",
    "\n",
    "select = SelectFromModel(gbc_tune,threshold='median')\n",
    "pipe_gbc = Pipeline([('rus',rus),('select',select),('clf',gbc_tune)])\n",
    "\n",
    "# parameter yang disiapkan\n",
    "param_gb = {\n",
    "    'clf__n_estimators':[45,70,90,100,110,120,140]}\n",
    "\n",
    "skf = StratifiedKFold(n_splits=5,random_state=123)\n",
    "\n",
    "gbc_grid = GridSearchCV(pipe_gbc,\n",
    "                       param_grid=param_gb,\n",
    "                       # ukuran prediksi yang digunakan untuk tunning\n",
    "                       refit = 'geometric',\n",
    "                       # metode validasi silang\n",
    "                       cv=skf)\n",
    "\n",
    "gbc_grid.fit(X_train,y_train)"
   ]
  },
  {
   "cell_type": "code",
   "execution_count": 43,
   "metadata": {},
   "outputs": [
    {
     "name": "stdout",
     "output_type": "stream",
     "text": [
      "{'clf__n_estimators': 45}\n",
      "0.6880530973451328\n",
      "akurasi:\n",
      " 0.682983682983683 \n",
      "\n",
      "confusion matirx test:\n",
      " [[3202 1304]\n",
      " [ 600  900]] \n",
      "\n",
      "classification Report test:\n",
      "              precision    recall  f1-score   support\n",
      "\n",
      "          0       0.84      0.71      0.77      4506\n",
      "          1       0.41      0.60      0.49      1500\n",
      "\n",
      "avg / total       0.73      0.68      0.70      6006\n",
      " \n",
      "\n"
     ]
    }
   ],
   "source": [
    "print(gbc_grid.best_params_)\n",
    "print(gbc_grid.best_score_)\n",
    "eval(gbc_grid.best_estimator_,X_test,y_test)"
   ]
  },
  {
   "cell_type": "markdown",
   "metadata": {},
   "source": [
    "# Tuning 2 ( Max_depth & Min_samples_split)"
   ]
  },
  {
   "cell_type": "code",
   "execution_count": 44,
   "metadata": {},
   "outputs": [
    {
     "data": {
      "text/plain": [
       "GridSearchCV(cv=StratifiedKFold(n_splits=5, random_state=123, shuffle=False),\n",
       "       error_score='raise',\n",
       "       estimator=Pipeline(memory=None,\n",
       "     steps=[('rus', RandomUnderSampler(random_state=123, ratio='auto', replacement=False,\n",
       "          return_indices=False)), ('select', SelectFromModel(estimator=GradientBoostingClassifier(criterion='friedman_mse', init=None,\n",
       "              learning_rate=0.1, loss='deviance', max_depth=3,\n",
       "              max...       presort='auto', random_state=123, subsample=1.0, verbose=0,\n",
       "              warm_start=False))]),\n",
       "       fit_params=None, iid=True, n_jobs=1,\n",
       "       param_grid={'clf__max_depth': range(2, 8), 'clf__min_samples_split': range(2, 6, 2)},\n",
       "       pre_dispatch='2*n_jobs', refit='geometric',\n",
       "       return_train_score='warn', scoring=None, verbose=0)"
      ]
     },
     "execution_count": 44,
     "metadata": {},
     "output_type": "execute_result"
    }
   ],
   "source": [
    "rus = RandomUnderSampler(random_state=123)\n",
    "\n",
    "# model yang disiapkan\n",
    "gbc_tune2 = GradientBoostingClassifier(criterion='friedman_mse',\n",
    "                    learning_rate=0.1,\n",
    "#                    max_depth=3,\n",
    "                    max_features=None,\n",
    "#                    min_samples_split=2,\n",
    "                    min_samples_leaf=1,\n",
    "                    n_estimators=100,\n",
    "                    subsample=1.0,                  \n",
    "                    random_state=123)\n",
    "\n",
    "select = SelectFromModel(gbc_tune2,threshold='median')\n",
    "pipe_gbc2 = Pipeline([('rus',rus),('select',select),('clf',gbc_tune2)])\n",
    "\n",
    "# parameter yang disiapkan\n",
    "param_gb2 = {\n",
    "    'clf__max_depth':range(2,8,1),\n",
    "    'clf__min_samples_split':range(2,6,2)\n",
    "}\n",
    "\n",
    "skf = StratifiedKFold(n_splits=5,random_state=123)\n",
    "\n",
    "gbc_grid2 = GridSearchCV(pipe_gbc2,\n",
    "                       param_grid=param_gb2,\n",
    "                       # ukuran prediksi yang digunakan untuk tunning\n",
    "                       refit = 'geometric',\n",
    "                       # metode validasi silang\n",
    "                       cv=skf)\n",
    "\n",
    "gbc_grid2.fit(X_train,y_train)"
   ]
  },
  {
   "cell_type": "code",
   "execution_count": 45,
   "metadata": {},
   "outputs": [
    {
     "name": "stdout",
     "output_type": "stream",
     "text": [
      "{'clf__max_depth': 2, 'clf__min_samples_split': 2}\n",
      "0.6849129317727662\n",
      "akurasi:\n",
      " 0.6856476856476856 \n",
      "\n",
      "confusion matirx test:\n",
      " [[3203 1303]\n",
      " [ 585  915]] \n",
      "\n",
      "classification Report test:\n",
      "              precision    recall  f1-score   support\n",
      "\n",
      "          0       0.85      0.71      0.77      4506\n",
      "          1       0.41      0.61      0.49      1500\n",
      "\n",
      "avg / total       0.74      0.69      0.70      6006\n",
      " \n",
      "\n"
     ]
    }
   ],
   "source": [
    "print(gbc_grid2.best_params_)\n",
    "print(gbc_grid2.best_score_)\n",
    "eval(gbc_grid2.best_estimator_,X_test,y_test)"
   ]
  },
  {
   "cell_type": "markdown",
   "metadata": {},
   "source": [
    "# Tuning 3 (Min_samples_leaf)"
   ]
  },
  {
   "cell_type": "code",
   "execution_count": 46,
   "metadata": {},
   "outputs": [
    {
     "data": {
      "text/plain": [
       "GridSearchCV(cv=StratifiedKFold(n_splits=5, random_state=123, shuffle=False),\n",
       "       error_score='raise',\n",
       "       estimator=Pipeline(memory=None,\n",
       "     steps=[('rus', RandomUnderSampler(random_state=123, ratio='auto', replacement=False,\n",
       "          return_indices=False)), ('select', SelectFromModel(estimator=GradientBoostingClassifier(criterion='friedman_mse', init=None,\n",
       "              learning_rate=0.1, loss='deviance', max_depth=3,\n",
       "              max...       presort='auto', random_state=123, subsample=1.0, verbose=0,\n",
       "              warm_start=False))]),\n",
       "       fit_params=None, iid=True, n_jobs=1,\n",
       "       param_grid={'clf__max_depth': [3, 4, 5], 'clf__min_samples_leaf': [1, 2, 3, 4, 5, 6]},\n",
       "       pre_dispatch='2*n_jobs', refit='geometric',\n",
       "       return_train_score='warn', scoring=None, verbose=0)"
      ]
     },
     "execution_count": 46,
     "metadata": {},
     "output_type": "execute_result"
    }
   ],
   "source": [
    "rus = RandomUnderSampler(random_state=123)\n",
    "\n",
    "# model yang disiapkan\n",
    "gbc_tune3 = GradientBoostingClassifier(criterion='friedman_mse',\n",
    "                    learning_rate=0.1,\n",
    "#                    max_depth=3,\n",
    "                    max_features=None,\n",
    "                    min_samples_split=2,\n",
    "#                    min_samples_leaf=1,\n",
    "                    n_estimators=100,\n",
    "                    subsample=1.0,                  \n",
    "                    random_state=123)\n",
    "\n",
    "select = SelectFromModel(gbc_tune3,threshold='median')\n",
    "pipe_gbc3 = Pipeline([('rus',rus),('select',select),('clf',gbc_tune3)])\n",
    "\n",
    "# parameter yang disiapkan\n",
    "param_gb3 = {\n",
    "    'clf__max_depth':[3,4,5],\n",
    "    'clf__min_samples_leaf':[1,2,3,4,5,6]\n",
    "}\n",
    "\n",
    "skf = StratifiedKFold(n_splits=5,random_state=123)\n",
    "\n",
    "gbc_grid3 = GridSearchCV(pipe_gbc3,\n",
    "                       param_grid=param_gb3,\n",
    "                       # ukuran prediksi yang digunakan untuk tunning\n",
    "                       refit = 'geometric',\n",
    "                       # metode validasi silang\n",
    "                       cv=skf)\n",
    "\n",
    "gbc_grid3.fit(X_train,y_train)"
   ]
  },
  {
   "cell_type": "code",
   "execution_count": 47,
   "metadata": {},
   "outputs": [
    {
     "name": "stdout",
     "output_type": "stream",
     "text": [
      "{'clf__max_depth': 3, 'clf__min_samples_leaf': 6}\n",
      "0.6848415643733943\n",
      "akurasi:\n",
      " 0.685980685980686 \n",
      "\n",
      "confusion matirx test:\n",
      " [[3207 1299]\n",
      " [ 587  913]] \n",
      "\n",
      "classification Report test:\n",
      "              precision    recall  f1-score   support\n",
      "\n",
      "          0       0.85      0.71      0.77      4506\n",
      "          1       0.41      0.61      0.49      1500\n",
      "\n",
      "avg / total       0.74      0.69      0.70      6006\n",
      " \n",
      "\n"
     ]
    }
   ],
   "source": [
    "print(gbc_grid3.best_params_)\n",
    "print(gbc_grid3.best_score_)\n",
    "eval(gbc_grid3.best_estimator_,X_test,y_test)"
   ]
  },
  {
   "cell_type": "markdown",
   "metadata": {},
   "source": [
    "# Tuning 4 (Learning Rate)"
   ]
  },
  {
   "cell_type": "code",
   "execution_count": 53,
   "metadata": {},
   "outputs": [
    {
     "data": {
      "text/plain": [
       "GridSearchCV(cv=StratifiedKFold(n_splits=5, random_state=123, shuffle=False),\n",
       "       error_score='raise',\n",
       "       estimator=Pipeline(memory=None,\n",
       "     steps=[('rus', RandomUnderSampler(random_state=123, ratio='auto', replacement=False,\n",
       "          return_indices=False)), ('select', SelectFromModel(estimator=GradientBoostingClassifier(criterion='friedman_mse', init=None,\n",
       "              learning_rate=0.1, loss='deviance', max_depth=3,\n",
       "              max...       presort='auto', random_state=123, subsample=1.0, verbose=0,\n",
       "              warm_start=False))]),\n",
       "       fit_params=None, iid=True, n_jobs=1,\n",
       "       param_grid={'clf__learning_rate': [0.1, 0.2, 0.3, 0.4, 0.5, 0.6, 0.7, 0.8, 0.9, 1, 1.5, 2]},\n",
       "       pre_dispatch='2*n_jobs', refit='geometric',\n",
       "       return_train_score='warn', scoring=None, verbose=0)"
      ]
     },
     "execution_count": 53,
     "metadata": {},
     "output_type": "execute_result"
    }
   ],
   "source": [
    "rus = RandomUnderSampler(random_state=123)\n",
    "\n",
    "# model yang disiapkan\n",
    "gbc_tune4 = GradientBoostingClassifier(criterion='friedman_mse',\n",
    "#                    learning_rate=0.1,\n",
    "                    max_depth=3,\n",
    "                    max_features=None,\n",
    "                    min_samples_split=2,\n",
    "                    min_samples_leaf=1,\n",
    "                    n_estimators=100,\n",
    "                    subsample=1.0,                  \n",
    "                    random_state=123)\n",
    "\n",
    "select = SelectFromModel(gbc_tune4,threshold='median')\n",
    "pipe_gbc4 = Pipeline([('rus',rus),('select',select),('clf',gbc_tune4)])\n",
    "\n",
    "# parameter yang disiapkan\n",
    "param_gb4 = {\n",
    "    'clf__learning_rate':[0.1,0.2,0.3,0.4,0.5,0.6,0.7,0.8,0.9,1,1.5,2]\n",
    "}\n",
    "\n",
    "skf = StratifiedKFold(n_splits=5,random_state=123)\n",
    "\n",
    "gbc_grid4 = GridSearchCV(pipe_gbc4,\n",
    "                       param_grid=param_gb4,\n",
    "                       # ukuran prediksi yang digunakan untuk tunning\n",
    "                       refit = 'geometric',\n",
    "                       # metode validasi silang\n",
    "                       cv=skf)\n",
    "\n",
    "gbc_grid4.fit(X_train,y_train)"
   ]
  },
  {
   "cell_type": "code",
   "execution_count": 54,
   "metadata": {},
   "outputs": [
    {
     "name": "stdout",
     "output_type": "stream",
     "text": [
      "{'clf__learning_rate': 0.1}\n",
      "0.6844133599771625\n",
      "akurasi:\n",
      " 0.6824841824841825 \n",
      "\n",
      "confusion matirx test:\n",
      " [[3181 1325]\n",
      " [ 582  918]] \n",
      "\n",
      "classification Report test:\n",
      "              precision    recall  f1-score   support\n",
      "\n",
      "          0       0.85      0.71      0.77      4506\n",
      "          1       0.41      0.61      0.49      1500\n",
      "\n",
      "avg / total       0.74      0.68      0.70      6006\n",
      " \n",
      "\n"
     ]
    }
   ],
   "source": [
    "print(gbc_grid4.best_params_)\n",
    "print(gbc_grid4.best_score_)\n",
    "eval(gbc_grid4.best_estimator_,X_test,y_test)"
   ]
  },
  {
   "cell_type": "markdown",
   "metadata": {},
   "source": [
    "# Model Fix"
   ]
  },
  {
   "cell_type": "markdown",
   "metadata": {},
   "source": [
    "## The Final Model that will be used in this dataset is Gradient Boosting Classifier with Random Under sampling and Stratified 10-Cross Validation with Parameter Tuning. I have made the pipeline for this final model "
   ]
  },
  {
   "cell_type": "code",
   "execution_count": 55,
   "metadata": {},
   "outputs": [],
   "source": [
    "rus = RandomUnderSampler(random_state=123)\n",
    "\n",
    "# model yang disiapkan\n",
    "gbc_tune4 = GradientBoostingClassifier(criterion='friedman_mse',\n",
    "                    learning_rate=0.1,\n",
    "                    max_depth=3,\n",
    "                    max_features=None,\n",
    "                    min_samples_split=2,\n",
    "                    min_samples_leaf=1,\n",
    "                    n_estimators=100,\n",
    "                    subsample=1.0,                  \n",
    "                    random_state=123)\n",
    "\n",
    "select = SelectFromModel(gbc_tune4,threshold='median')\n",
    "pipe_gbc4 = Pipeline([('rus',rus),('clf',gbc_tune4)])"
   ]
  },
  {
   "cell_type": "code",
   "execution_count": 56,
   "metadata": {},
   "outputs": [
    {
     "data": {
      "text/plain": [
       "Pipeline(memory=None,\n",
       "     steps=[('rus', RandomUnderSampler(random_state=123, ratio='auto', replacement=False,\n",
       "          return_indices=False)), ('clf', GradientBoostingClassifier(criterion='friedman_mse', init=None,\n",
       "              learning_rate=0.1, loss='deviance', max_depth=3,\n",
       "              max_features=None, max_leaf_node...       presort='auto', random_state=123, subsample=1.0, verbose=0,\n",
       "              warm_start=False))])"
      ]
     },
     "execution_count": 56,
     "metadata": {},
     "output_type": "execute_result"
    }
   ],
   "source": [
    "pipe_gbc4.fit(X,y)"
   ]
  },
  {
   "cell_type": "code",
   "execution_count": 57,
   "metadata": {},
   "outputs": [],
   "source": [
    "y_prob = pipe_gbc4.predict_proba(X_test)"
   ]
  },
  {
   "cell_type": "markdown",
   "metadata": {},
   "source": [
    "# Metrics Evaluation"
   ]
  },
  {
   "cell_type": "markdown",
   "metadata": {},
   "source": [
    "## AUC-ROC Curve"
   ]
  },
  {
   "cell_type": "code",
   "execution_count": 58,
   "metadata": {},
   "outputs": [],
   "source": [
    "from sklearn.metrics import roc_curve\n",
    "\n",
    "def plot_roc_curve(ytest, P_ensemble):\n",
    "    \"\"\"Plot the roc curve for base learners and ensemble.\"\"\"\n",
    "    plt.figure(figsize=(10, 8))\n",
    "    plt.plot([0, 1], [0, 1], 'k--')\n",
    "\n",
    "    fpr, tpr, _ = roc_curve(y_test, P_ensemble)\n",
    "    plt.plot(fpr, tpr)\n",
    "        \n",
    "    plt.xlabel('False positive rate')\n",
    "    plt.ylabel('True positive rate')\n",
    "    plt.title('ROC curve')\n",
    "    plt.show()"
   ]
  },
  {
   "cell_type": "code",
   "execution_count": 59,
   "metadata": {},
   "outputs": [
    {
     "data": {
      "image/png": "[encoded data removed]",
      "text/plain": [
       "<matplotlib.figure.Figure at 0x26d82d39a58>"
      ]
     },
     "metadata": {},
     "output_type": "display_data"
    }
   ],
   "source": [
    "plot_roc_curve(y_test,y_prob[:,1])"
   ]
  },
  {
   "cell_type": "markdown",
   "metadata": {},
   "source": [
    "## Confusion Matrix"
   ]
  },
  {
   "cell_type": "code",
   "execution_count": 60,
   "metadata": {},
   "outputs": [
    {
     "name": "stdout",
     "output_type": "stream",
     "text": [
      "             precision    recall  f1-score   support\n",
      "\n",
      "          0       0.87      0.72      0.79      4506\n",
      "          1       0.44      0.66      0.53      1500\n",
      "\n",
      "avg / total       0.76      0.71      0.72      6006\n",
      "\n"
     ]
    }
   ],
   "source": [
    "y_pred = pipe_gbc4.predict(X_test)\n",
    "print(classification_report(y_test,y_pred))"
   ]
  },
  {
   "cell_type": "code",
   "execution_count": 113,
   "metadata": {},
   "outputs": [],
   "source": []
  },
  {
   "cell_type": "markdown",
   "metadata": {},
   "source": [
    "# Feature Importance"
   ]
  },
  {
   "cell_type": "markdown",
   "metadata": {},
   "source": [
    "### List from Feature that has big affect to model prediction. Feature that affect whether the drivers was dangerous or not"
   ]
  },
  {
   "cell_type": "code",
   "execution_count": 115,
   "metadata": {},
   "outputs": [
    {
     "name": "stdout",
     "output_type": "stream",
     "text": [
      "Wall time: 3.66 s\n"
     ]
    }
   ],
   "source": [
    "%%time\n",
    "from sklearn.ensemble import GradientBoostingClassifier\n",
    "from numpy import loadtxt\n",
    "from numpy import sort\n",
    "from sklearn.metrics import accuracy_score\n",
    "from xgboost import XGBClassifier\n",
    "from sklearn.model_selection import train_test_split\n",
    "from imblearn.under_sampling import RandomUnderSampler\n",
    "X_train,X_test,y_train,y_test = train_test_split(X,y,test_size = 0.3, stratify=y)\n",
    "rus = RandomUnderSampler()\n",
    "X_sampled,y_sampled = rus.fit_sample(X_train,y_train)\n",
    "gbc = GradientBoostingClassifier()\n",
    "model=gbc.fit(X_sampled,y_sampled)"
   ]
  },
  {
   "cell_type": "code",
   "execution_count": 116,
   "metadata": {},
   "outputs": [],
   "source": [
    "importances = model.feature_importances_\n",
    "indices = np.argsort(importances)[::-1]\n"
   ]
  },
  {
   "cell_type": "code",
   "execution_count": 117,
   "metadata": {},
   "outputs": [],
   "source": [
    "to_bar = pd.DataFrame([df_main.columns[indices],importances[indices]]).transpose()\n",
    "to_bar.columns = ['Feature','Value']"
   ]
  },
  {
   "cell_type": "code",
   "execution_count": 118,
   "metadata": {},
   "outputs": [],
   "source": [
    "#df_main.info()"
   ]
  },
  {
   "cell_type": "code",
   "execution_count": 119,
   "metadata": {},
   "outputs": [
    {
     "name": "stdout",
     "output_type": "stream",
     "text": [
      "Feature ranking:\n",
      "1. feature Accuracy (0.121604)\n",
      "2. feature acc_gyro_x (0.115406)\n",
      "3. feature speed_xz (0.069918)\n",
      "4. feature Bearing (0.055435)\n",
      "5. feature speed_x (0.043158)\n",
      "6. feature Speed (0.040036)\n",
      "7. feature count (0.036969)\n",
      "8. feature acc_xyz (0.034760)\n",
      "9. feature gyro_x (0.027620)\n",
      "10. feature acc_xz (0.027394)\n",
      "11. feature speed_y (0.025662)\n",
      "12. feature rad_yz (0.023558)\n",
      "13. feature rad_z (0.021659)\n",
      "14. feature acceleration_z (0.020931)\n",
      "15. feature gyro_y (0.020823)\n",
      "16. feature rad_y (0.020403)\n",
      "17. feature distance (0.020095)\n",
      "18. feature acceleration_x (0.019364)\n",
      "19. feature acc_yz (0.019002)\n",
      "20. feature acc_gyro_xy (0.017771)\n"
     ]
    },
    {
     "data": {
      "image/png": "[encoded data removed]",
      "text/plain": [
       "<matplotlib.figure.Figure at 0x26d84ef8e48>"
      ]
     },
     "metadata": {},
     "output_type": "display_data"
    }
   ],
   "source": [
    "# Print the feature ranking\n",
    "print(\"Feature ranking:\")\n",
    "\n",
    "for f in range(20):\n",
    "    print(\"%d. feature %s (%f)\" % (f + 1, df_main.columns[indices[f]], importances[indices[f]]))\n",
    "\n",
    "# Plot the feature importances of the forest\n",
    "\n",
    "plt.figure(1, figsize=(10, 15))\n",
    "plt.title(\"Feature importances\")\n",
    "ax = sns.barplot(x='Value',y='Feature',data=to_bar[0:30])\n",
    "plt.xlabel('Importances Value', fontsize = 20)\n",
    "plt.ylabel('Feature', fontsize = 20)\n",
    "plt.show()\n"
   ]
  },
  {
   "cell_type": "code",
   "execution_count": null,
   "metadata": {},
   "outputs": [],
   "source": []
  },
  {
   "cell_type": "code",
   "execution_count": null,
   "metadata": {},
   "outputs": [],
   "source": []
  },
  {
   "cell_type": "code",
   "execution_count": null,
   "metadata": {},
   "outputs": [],
   "source": []
  }
 ],
 "metadata": {
  "kernelspec": {
   "display_name": "Python 3",
   "language": "python",
   "name": "python3"
  },
  "language_info": {
   "codemirror_mode": {
    "name": "ipython",
    "version": 3
   },
   "file_extension": ".py",
   "mimetype": "text/x-python",
   "name": "python",
   "nbconvert_exporter": "python",
   "pygments_lexer": "ipython3",
   "version": "3.6.4"
  }
 },
 "nbformat": 4,
 "nbformat_minor": 2
}
